{
 "cells": [
  {
   "cell_type": "code",
   "execution_count": 167,
   "id": "954ad3f3",
   "metadata": {},
   "outputs": [],
   "source": [
    "import pandas as pd\n",
    "import numpy as np\n",
    "import mysql.connector as db"
   ]
  },
  {
   "cell_type": "code",
   "execution_count": 168,
   "id": "93145999",
   "metadata": {},
   "outputs": [
    {
     "data": {
      "text/html": [
       "<div>\n",
       "<style scoped>\n",
       "    .dataframe tbody tr th:only-of-type {\n",
       "        vertical-align: middle;\n",
       "    }\n",
       "\n",
       "    .dataframe tbody tr th {\n",
       "        vertical-align: top;\n",
       "    }\n",
       "\n",
       "    .dataframe thead th {\n",
       "        text-align: right;\n",
       "    }\n",
       "</style>\n",
       "<table border=\"1\" class=\"dataframe\">\n",
       "  <thead>\n",
       "    <tr style=\"text-align: right;\">\n",
       "      <th></th>\n",
       "      <th>id</th>\n",
       "      <th>food</th>\n",
       "      <th>price</th>\n",
       "      <th>ingredient</th>\n",
       "    </tr>\n",
       "  </thead>\n",
       "  <tbody>\n",
       "    <tr>\n",
       "      <th>0</th>\n",
       "      <td>2c78ddef-acca-42a9-9c8d-d5419c0a29e9</td>\n",
       "      <td>پیتزا پپرونی</td>\n",
       "      <td>137000</td>\n",
       "      <td>کالباس پپرونی. فلفل دلمه.نان23سانتی.سس وپنیر م...</td>\n",
       "    </tr>\n",
       "    <tr>\n",
       "      <th>1</th>\n",
       "      <td>2c78ddef-acca-42a9-9c8d-d5419c0a29e9</td>\n",
       "      <td>پیتزا سیر و استیک</td>\n",
       "      <td>187000</td>\n",
       "      <td>راسته گوساله.قارچ.گوجه فرنگی.ذرت.نان23سانتی.سس...</td>\n",
       "    </tr>\n",
       "    <tr>\n",
       "      <th>2</th>\n",
       "      <td>2c78ddef-acca-42a9-9c8d-d5419c0a29e9</td>\n",
       "      <td>پیتزا گوشت و مرغ</td>\n",
       "      <td>164000</td>\n",
       "      <td>70گرم راسته گوساله طعم دارشده - 70گرم سینه مرغ...</td>\n",
       "    </tr>\n",
       "    <tr>\n",
       "      <th>3</th>\n",
       "      <td>2c78ddef-acca-42a9-9c8d-d5419c0a29e9</td>\n",
       "      <td>پیتزا قارچ و گوشت</td>\n",
       "      <td>139000</td>\n",
       "      <td>گوشت تازه طعم دارشده مخلوط گوساله و گوسفندی.پی...</td>\n",
       "    </tr>\n",
       "    <tr>\n",
       "      <th>4</th>\n",
       "      <td>2c78ddef-acca-42a9-9c8d-d5419c0a29e9</td>\n",
       "      <td>پیتزا مرغ و قارچ</td>\n",
       "      <td>135000</td>\n",
       "      <td>فیله و سینه مرغ.قارچ.نان23سانتی.سس وپنیر مخصوص...</td>\n",
       "    </tr>\n",
       "  </tbody>\n",
       "</table>\n",
       "</div>"
      ],
      "text/plain": [
       "                                     id               food   price  \\\n",
       "0  2c78ddef-acca-42a9-9c8d-d5419c0a29e9       پیتزا پپرونی  137000   \n",
       "1  2c78ddef-acca-42a9-9c8d-d5419c0a29e9  پیتزا سیر و استیک  187000   \n",
       "2  2c78ddef-acca-42a9-9c8d-d5419c0a29e9   پیتزا گوشت و مرغ  164000   \n",
       "3  2c78ddef-acca-42a9-9c8d-d5419c0a29e9  پیتزا قارچ و گوشت  139000   \n",
       "4  2c78ddef-acca-42a9-9c8d-d5419c0a29e9   پیتزا مرغ و قارچ  135000   \n",
       "\n",
       "                                          ingredient  \n",
       "0  کالباس پپرونی. فلفل دلمه.نان23سانتی.سس وپنیر م...  \n",
       "1  راسته گوساله.قارچ.گوجه فرنگی.ذرت.نان23سانتی.سس...  \n",
       "2  70گرم راسته گوساله طعم دارشده - 70گرم سینه مرغ...  \n",
       "3  گوشت تازه طعم دارشده مخلوط گوساله و گوسفندی.پی...  \n",
       "4  فیله و سینه مرغ.قارچ.نان23سانتی.سس وپنیر مخصوص...  "
      ]
     },
     "execution_count": 168,
     "metadata": {},
     "output_type": "execute_result"
    }
   ],
   "source": [
    "menu = pd.read_csv('menu.csv')\n",
    "menu.head()"
   ]
  },
  {
   "cell_type": "code",
   "execution_count": 169,
   "id": "b78136e4",
   "metadata": {
    "scrolled": true
   },
   "outputs": [
    {
     "data": {
      "text/html": [
       "<div>\n",
       "<style scoped>\n",
       "    .dataframe tbody tr th:only-of-type {\n",
       "        vertical-align: middle;\n",
       "    }\n",
       "\n",
       "    .dataframe tbody tr th {\n",
       "        vertical-align: top;\n",
       "    }\n",
       "\n",
       "    .dataframe thead th {\n",
       "        text-align: right;\n",
       "    }\n",
       "</style>\n",
       "<table border=\"1\" class=\"dataframe\">\n",
       "  <thead>\n",
       "    <tr style=\"text-align: right;\">\n",
       "      <th></th>\n",
       "      <th>id</th>\n",
       "      <th>name</th>\n",
       "      <th>cityId</th>\n",
       "      <th>address</th>\n",
       "      <th>rate</th>\n",
       "      <th>fullAddress</th>\n",
       "      <th>rateCount</th>\n",
       "      <th>deliveryDuration</th>\n",
       "      <th>typeId</th>\n",
       "      <th>menu</th>\n",
       "    </tr>\n",
       "  </thead>\n",
       "  <tbody>\n",
       "    <tr>\n",
       "      <th>0</th>\n",
       "      <td>2c78ddef-acca-42a9-9c8d-d5419c0a29e9</td>\n",
       "      <td>فست فود بلوط</td>\n",
       "      <td>1</td>\n",
       "      <td>باغ فیض</td>\n",
       "      <td>4.04</td>\n",
       "      <td>باغ فیض، خیابان 22بهمن، خیابان شهید ناطق نوری،...</td>\n",
       "      <td>249</td>\n",
       "      <td>0</td>\n",
       "      <td>1.0</td>\n",
       "      <td>[{'title': 'پیتزا مخصوص', 'price': 154000, 'in...</td>\n",
       "    </tr>\n",
       "    <tr>\n",
       "      <th>1</th>\n",
       "      <td>da9ef4fd-53db-4e9f-8e65-e6d0b70f08e6</td>\n",
       "      <td>رستوران نایب</td>\n",
       "      <td>1</td>\n",
       "      <td>سعادت آباد، میدان کاج</td>\n",
       "      <td>4.41</td>\n",
       "      <td>سعادت آباد، میدان کاج، مرکز تجاری ابریشم</td>\n",
       "      <td>491</td>\n",
       "      <td>0</td>\n",
       "      <td>1.0</td>\n",
       "      <td>[{'title': 'چلو کباب برگ ممتاز', 'price': 3700...</td>\n",
       "    </tr>\n",
       "    <tr>\n",
       "      <th>2</th>\n",
       "      <td>79c3981a-abcc-4488-896b-0a1011ab8158</td>\n",
       "      <td>رستوران بوکا</td>\n",
       "      <td>1</td>\n",
       "      <td>نیاوران</td>\n",
       "      <td>4.51</td>\n",
       "      <td>نیاوران، شمال کاخ نیاوران، خیابان پور ابتهاج، ...</td>\n",
       "      <td>264</td>\n",
       "      <td>0</td>\n",
       "      <td>1.0</td>\n",
       "      <td>[{'title': 'فیله بره', 'price': 440000, 'ingre...</td>\n",
       "    </tr>\n",
       "    <tr>\n",
       "      <th>3</th>\n",
       "      <td>e5e698e3-5b34-4292-b64e-564d2f0a416d</td>\n",
       "      <td>پیتزا پاپیون</td>\n",
       "      <td>1</td>\n",
       "      <td>گیشا</td>\n",
       "      <td>4.44</td>\n",
       "      <td>گیشا، نبش خیابان 31</td>\n",
       "      <td>502</td>\n",
       "      <td>0</td>\n",
       "      <td>1.0</td>\n",
       "      <td>[{'title': 'پیتزا پاپیون', 'price': 160000, 'i...</td>\n",
       "    </tr>\n",
       "    <tr>\n",
       "      <th>4</th>\n",
       "      <td>a6b256dc-d417-4592-9ad1-28ba4f9c5bae</td>\n",
       "      <td>فست فود دهه شصت</td>\n",
       "      <td>1</td>\n",
       "      <td>نیاوران، جمشیدیه</td>\n",
       "      <td>3.73</td>\n",
       "      <td>نیاوران، جمشیدیه، انتهای فیضیه، تقاطع امیدوار،...</td>\n",
       "      <td>55</td>\n",
       "      <td>0</td>\n",
       "      <td>1.0</td>\n",
       "      <td>[{'title': 'پیتزا دلوکس', 'price': 185000, 'in...</td>\n",
       "    </tr>\n",
       "  </tbody>\n",
       "</table>\n",
       "</div>"
      ],
      "text/plain": [
       "                                     id             name  cityId  \\\n",
       "0  2c78ddef-acca-42a9-9c8d-d5419c0a29e9     فست فود بلوط       1   \n",
       "1  da9ef4fd-53db-4e9f-8e65-e6d0b70f08e6     رستوران نایب       1   \n",
       "2  79c3981a-abcc-4488-896b-0a1011ab8158     رستوران بوکا       1   \n",
       "3  e5e698e3-5b34-4292-b64e-564d2f0a416d     پیتزا پاپیون       1   \n",
       "4  a6b256dc-d417-4592-9ad1-28ba4f9c5bae  فست فود دهه شصت       1   \n",
       "\n",
       "                 address  rate  \\\n",
       "0                باغ فیض  4.04   \n",
       "1  سعادت آباد، میدان کاج  4.41   \n",
       "2                نیاوران  4.51   \n",
       "3                   گیشا  4.44   \n",
       "4       نیاوران، جمشیدیه  3.73   \n",
       "\n",
       "                                         fullAddress  rateCount  \\\n",
       "0  باغ فیض، خیابان 22بهمن، خیابان شهید ناطق نوری،...        249   \n",
       "1           سعادت آباد، میدان کاج، مرکز تجاری ابریشم        491   \n",
       "2  نیاوران، شمال کاخ نیاوران، خیابان پور ابتهاج، ...        264   \n",
       "3                                گیشا، نبش خیابان 31        502   \n",
       "4  نیاوران، جمشیدیه، انتهای فیضیه، تقاطع امیدوار،...         55   \n",
       "\n",
       "   deliveryDuration  typeId                                               menu  \n",
       "0                 0     1.0  [{'title': 'پیتزا مخصوص', 'price': 154000, 'in...  \n",
       "1                 0     1.0  [{'title': 'چلو کباب برگ ممتاز', 'price': 3700...  \n",
       "2                 0     1.0  [{'title': 'فیله بره', 'price': 440000, 'ingre...  \n",
       "3                 0     1.0  [{'title': 'پیتزا پاپیون', 'price': 160000, 'i...  \n",
       "4                 0     1.0  [{'title': 'پیتزا دلوکس', 'price': 185000, 'in...  "
      ]
     },
     "execution_count": 169,
     "metadata": {},
     "output_type": "execute_result"
    }
   ],
   "source": [
    "restaurant = pd.read_csv('delino_api_data_csv.csv')\n",
    "restaurant.head()"
   ]
  },
  {
   "cell_type": "code",
   "execution_count": 170,
   "id": "02afdecb",
   "metadata": {},
   "outputs": [],
   "source": [
    "db_host = \"localhost\"\n",
    "db_user = \"root\"\n",
    "db_password = \"\"\n",
    "db_name = \"delino_db\""
   ]
  },
  {
   "cell_type": "code",
   "execution_count": 171,
   "id": "9a480ccb",
   "metadata": {},
   "outputs": [
    {
     "name": "stdout",
     "output_type": "stream",
     "text": [
      "Connection to MYSQL successfully....\n"
     ]
    }
   ],
   "source": [
    "db_conn = db.connect(\n",
    "  host=db_host,\n",
    "  user=db_user,\n",
    "  password=db_password\n",
    ")\n",
    "\n",
    "if db_conn :\n",
    "    print(\"Connection to MYSQL successfully....\")"
   ]
  },
  {
   "cell_type": "code",
   "execution_count": 172,
   "id": "e95af7c5",
   "metadata": {},
   "outputs": [],
   "source": [
    "cursor = db_conn.cursor()"
   ]
  },
  {
   "cell_type": "code",
   "execution_count": 173,
   "id": "f17cc0cd",
   "metadata": {},
   "outputs": [
    {
     "name": "stdout",
     "output_type": "stream",
     "text": [
      "Database created successfully....\n"
     ]
    }
   ],
   "source": [
    "create_database = cursor.execute(\"CREATE DATABASE {db_name}\".format(db_name=db_name))\n",
    "\n",
    "print(\"Database created successfully....\")"
   ]
  },
  {
   "cell_type": "code",
   "execution_count": 174,
   "id": "ba921614",
   "metadata": {},
   "outputs": [],
   "source": [
    "db = db.connect(\n",
    "  host=db_host,\n",
    "  user=db_user,\n",
    "  password=db_password,\n",
    "  database=db_name\n",
    ")"
   ]
  },
  {
   "cell_type": "code",
   "execution_count": 175,
   "id": "f8c5f9f9",
   "metadata": {},
   "outputs": [],
   "source": [
    "cursor = db.cursor()"
   ]
  },
  {
   "cell_type": "code",
   "execution_count": 176,
   "id": "df48a000",
   "metadata": {},
   "outputs": [],
   "source": [
    "cursor.execute(\"CREATE TABLE city(city_id INT AUTO_INCREMENT PRIMARY KEY,city_name VARCHAR(100), city_code VARCHAR(100))\")"
   ]
  },
  {
   "cell_type": "code",
   "execution_count": 177,
   "id": "ddac7695",
   "metadata": {},
   "outputs": [],
   "source": [
    "cursor.execute(\"CREATE TABLE restaurant_info(restaurant_id INT PRIMARY KEY,restaurant_csv_id VARCHAR(100),name VARCHAR(100),delivery_duration VARCHAR(100),res_type VARCHAR(100))\")"
   ]
  },
  {
   "cell_type": "code",
   "execution_count": 178,
   "id": "863ff8c5",
   "metadata": {},
   "outputs": [],
   "source": [
    "cursor.execute(\"CREATE TABLE address(address_id INT AUTO_INCREMENT PRIMARY KEY,city_id INT,restaurant_id INT,restaurant_csv_id VARCHAR(100),area VARCHAR(100),full_address TEXT,FOREIGN KEY (`city_id`) REFERENCES `city` (`city_id`),FOREIGN KEY (`restaurant_id`) REFERENCES `restaurant_info` (`restaurant_id`))\")"
   ]
  },
  {
   "cell_type": "code",
   "execution_count": 179,
   "id": "577874d8",
   "metadata": {},
   "outputs": [],
   "source": [
    "cursor.execute(\"CREATE TABLE rating(rating_id INT AUTO_INCREMENT PRIMARY KEY,restaurant_id INT,restaurant_csv_id VARCHAR(100),rate VARCHAR(100),rate_count VARCHAR(100),FOREIGN KEY (`restaurant_id`) REFERENCES `restaurant_info` (`restaurant_id`))\")"
   ]
  },
  {
   "cell_type": "code",
   "execution_count": 180,
   "id": "35fcf5c7",
   "metadata": {},
   "outputs": [],
   "source": [
    "cursor.execute(\"CREATE TABLE menu(menu_id INT AUTO_INCREMENT PRIMARY KEY,restaurant_id INT,restaurant_csv_id VARCHAR(100), food_title VARCHAR(100),price VARCHAR(100),ingredient TEXT,FOREIGN KEY (`restaurant_id`) REFERENCES `restaurant_info` (`restaurant_id`))\")"
   ]
  },
  {
   "cell_type": "code",
   "execution_count": 181,
   "id": "af82cddb",
   "metadata": {},
   "outputs": [],
   "source": [
    "city  = [\n",
    "    { 'name': 'tehran', 'code' : 1},\n",
    "    { 'name': 'qom', 'code' : 1003},\n",
    "    { 'name': 'bandarabas', 'code' : 1005},\n",
    "    { 'name': 'karaj', 'code' : 1007},\n",
    "    { 'name': 'rasht', 'code' : 1008},\n",
    "    { 'name': 'gorgan', 'code' : 1009},\n",
    "    { 'name': 'hamedan', 'code' : 1011},\n",
    "    { 'name': 'yazd', 'code' : 1012},\n",
    "    { 'name': 'oroumiye', 'code' : 1013},\n",
    "    { 'name': 'gonbad kavoos', 'code' : 1015},\n",
    "    { 'name': 'arak', 'code' : 1033},\n",
    "]"
   ]
  },
  {
   "cell_type": "code",
   "execution_count": 182,
   "id": "a76a9891",
   "metadata": {},
   "outputs": [],
   "source": [
    "for i in range(len(city)) :\n",
    "    sal_city = \"\"\n",
    "    val_city = \"\"\n",
    "    sql_city = \"INSERT INTO city (city_name,city_code ) VALUES (%s, %s)\"\n",
    "    val_city = (city[i]['name'], city[i]['code'])\n",
    "    cursor.execute(sql_city, val_city)\n",
    "    db.commit()"
   ]
  },
  {
   "cell_type": "code",
   "execution_count": 183,
   "id": "72ae9d53",
   "metadata": {},
   "outputs": [
    {
     "data": {
      "text/plain": [
       "Index(['id', 'name', 'cityId', 'address', 'rate', 'fullAddress', 'rateCount',\n",
       "       'deliveryDuration', 'typeId', 'menu'],\n",
       "      dtype='object')"
      ]
     },
     "execution_count": 183,
     "metadata": {},
     "output_type": "execute_result"
    }
   ],
   "source": [
    "restaurant.columns"
   ]
  },
  {
   "cell_type": "code",
   "execution_count": 184,
   "id": "7e76c771",
   "metadata": {},
   "outputs": [],
   "source": [
    "for index, row in restaurant.iterrows() :\n",
    "    sal_res = \"\"\n",
    "    val_res = \"\"\n",
    "    sql_res = \"INSERT INTO restaurant_info (restaurant_id,restaurant_csv_id,name,delivery_duration,res_type) VALUES (%s, %s, %s, %s, %s)\"\n",
    "    val_res = (index+1,row['id'], row['name'], row['deliveryDuration'], row['typeId'])\n",
    "    cursor.execute(sql_res, val_res)\n",
    "    db.commit()"
   ]
  },
  {
   "cell_type": "code",
   "execution_count": 185,
   "id": "c5f72bcb",
   "metadata": {},
   "outputs": [
    {
     "data": {
      "text/plain": [
       "Index(['id', 'name', 'cityId', 'address', 'rate', 'fullAddress', 'rateCount',\n",
       "       'deliveryDuration', 'typeId', 'menu'],\n",
       "      dtype='object')"
      ]
     },
     "execution_count": 185,
     "metadata": {},
     "output_type": "execute_result"
    }
   ],
   "source": [
    "restaurant.columns"
   ]
  },
  {
   "cell_type": "code",
   "execution_count": null,
   "id": "095ff8ff",
   "metadata": {},
   "outputs": [],
   "source": [
    "for index, row in restaurant.iterrows() :\n",
    "    sal_add = \"\"\n",
    "    val_add = \"\"\n",
    "    sql_add = \"INSERT INTO address (city_id,restaurant_id,restaurant_csv_id,area,full_address) VALUES (%s, %s, %s, %s, %s)\"\n",
    "    val_add = (row['cityId'], index+1 ,row['id'], row['address'], row['fullAddress'])\n",
    "    cursor.execute(sql_add, val_add)\n",
    "    db.commit()"
   ]
  },
  {
   "cell_type": "code",
   "execution_count": null,
   "id": "220dccf0",
   "metadata": {},
   "outputs": [],
   "source": [
    "restaurant.columns"
   ]
  },
  {
   "cell_type": "code",
   "execution_count": null,
   "id": "edd938cd",
   "metadata": {},
   "outputs": [],
   "source": [
    "for index, row in restaurant.iterrows() :\n",
    "    sal_rating = \"\"\n",
    "    val_rating = \"\"\n",
    "    sql_rating = \"INSERT INTO rating (restaurant_id, restaurant_csv_id,rate,rate_count) VALUES (%s,%s, %s, %s)\"\n",
    "    val_rating = (index+1 ,row['id'], row['rate'], row['rateCount'])\n",
    "    cursor.execute(sql_rating, val_rating)\n",
    "    db.commit()"
   ]
  },
  {
   "cell_type": "code",
   "execution_count": null,
   "id": "32dc57c4",
   "metadata": {},
   "outputs": [],
   "source": [
    "restaurant.columns"
   ]
  },
  {
   "cell_type": "code",
   "execution_count": 165,
   "id": "ef897f0e",
   "metadata": {},
   "outputs": [
    {
     "data": {
      "text/plain": [
       "Index(['id', 'food', 'price', 'ingredient'], dtype='object')"
      ]
     },
     "execution_count": 165,
     "metadata": {},
     "output_type": "execute_result"
    }
   ],
   "source": [
    "menu.columns"
   ]
  },
  {
   "cell_type": "code",
   "execution_count": 166,
   "id": "76dacb07",
   "metadata": {},
   "outputs": [
    {
     "ename": "IntegrityError",
     "evalue": "1452 (23000): Cannot add or update a child row: a foreign key constraint fails (`dbdelino`.`menu`, CONSTRAINT `menu_ibfk_1` FOREIGN KEY (`restaurant_id`) REFERENCES `restaurant_info` (`restaurant_id`))",
     "output_type": "error",
     "traceback": [
      "\u001b[1;31m---------------------------------------------------------------------------\u001b[0m",
      "\u001b[1;31mIntegrityError\u001b[0m                            Traceback (most recent call last)",
      "Input \u001b[1;32mIn [166]\u001b[0m, in \u001b[0;36m<cell line: 1>\u001b[1;34m()\u001b[0m\n\u001b[0;32m      4\u001b[0m sql_menu \u001b[38;5;241m=\u001b[39m \u001b[38;5;124m\"\u001b[39m\u001b[38;5;124mINSERT INTO menu (restaurant_id, restaurant_csv_id,food_title,price, ingredient) VALUES (\u001b[39m\u001b[38;5;132;01m%s\u001b[39;00m\u001b[38;5;124m, \u001b[39m\u001b[38;5;132;01m%s\u001b[39;00m\u001b[38;5;124m,\u001b[39m\u001b[38;5;132;01m%s\u001b[39;00m\u001b[38;5;124m, \u001b[39m\u001b[38;5;132;01m%s\u001b[39;00m\u001b[38;5;124m, \u001b[39m\u001b[38;5;132;01m%s\u001b[39;00m\u001b[38;5;124m)\u001b[39m\u001b[38;5;124m\"\u001b[39m\n\u001b[0;32m      5\u001b[0m val_menu \u001b[38;5;241m=\u001b[39m (index\u001b[38;5;241m+\u001b[39m\u001b[38;5;241m1\u001b[39m ,row[\u001b[38;5;124m'\u001b[39m\u001b[38;5;124mid\u001b[39m\u001b[38;5;124m'\u001b[39m], row[\u001b[38;5;124m'\u001b[39m\u001b[38;5;124mfood\u001b[39m\u001b[38;5;124m'\u001b[39m], row[\u001b[38;5;124m'\u001b[39m\u001b[38;5;124mprice\u001b[39m\u001b[38;5;124m'\u001b[39m], row[\u001b[38;5;124m'\u001b[39m\u001b[38;5;124mingredient\u001b[39m\u001b[38;5;124m'\u001b[39m])\n\u001b[1;32m----> 6\u001b[0m \u001b[43mcursor\u001b[49m\u001b[38;5;241;43m.\u001b[39;49m\u001b[43mexecute\u001b[49m\u001b[43m(\u001b[49m\u001b[43msql_menu\u001b[49m\u001b[43m,\u001b[49m\u001b[43m \u001b[49m\u001b[43mval_menu\u001b[49m\u001b[43m)\u001b[49m\n\u001b[0;32m      7\u001b[0m db\u001b[38;5;241m.\u001b[39mcommit()\n",
      "File \u001b[1;32m~\\AppData\\Roaming\\Python\\Python39\\site-packages\\mysql\\connector\\cursor.py:617\u001b[0m, in \u001b[0;36mMySQLCursor.execute\u001b[1;34m(self, operation, params, multi)\u001b[0m\n\u001b[0;32m    614\u001b[0m     \u001b[38;5;28;01mreturn\u001b[39;00m \u001b[38;5;28mself\u001b[39m\u001b[38;5;241m.\u001b[39m_execute_iter(\u001b[38;5;28mself\u001b[39m\u001b[38;5;241m.\u001b[39m_connection\u001b[38;5;241m.\u001b[39mcmd_query_iter(stmt))\n\u001b[0;32m    616\u001b[0m \u001b[38;5;28;01mtry\u001b[39;00m:\n\u001b[1;32m--> 617\u001b[0m     \u001b[38;5;28mself\u001b[39m\u001b[38;5;241m.\u001b[39m_handle_result(\u001b[38;5;28;43mself\u001b[39;49m\u001b[38;5;241;43m.\u001b[39;49m\u001b[43m_connection\u001b[49m\u001b[38;5;241;43m.\u001b[39;49m\u001b[43mcmd_query\u001b[49m\u001b[43m(\u001b[49m\u001b[43mstmt\u001b[49m\u001b[43m)\u001b[49m)\n\u001b[0;32m    618\u001b[0m \u001b[38;5;28;01mexcept\u001b[39;00m InterfaceError \u001b[38;5;28;01mas\u001b[39;00m err:\n\u001b[0;32m    619\u001b[0m     \u001b[38;5;28;01mif\u001b[39;00m \u001b[38;5;28mself\u001b[39m\u001b[38;5;241m.\u001b[39m_connection\u001b[38;5;241m.\u001b[39mhave_next_result:\n",
      "File \u001b[1;32m~\\AppData\\Roaming\\Python\\Python39\\site-packages\\mysql\\connector\\connection.py:1046\u001b[0m, in \u001b[0;36mMySQLConnection.cmd_query\u001b[1;34m(self, query, raw, buffered, raw_as_string)\u001b[0m\n\u001b[0;32m   1044\u001b[0m query \u001b[38;5;241m=\u001b[39m \u001b[38;5;28mbytes\u001b[39m(packet)\n\u001b[0;32m   1045\u001b[0m \u001b[38;5;28;01mtry\u001b[39;00m:\n\u001b[1;32m-> 1046\u001b[0m     result \u001b[38;5;241m=\u001b[39m \u001b[38;5;28;43mself\u001b[39;49m\u001b[38;5;241;43m.\u001b[39;49m\u001b[43m_handle_result\u001b[49m\u001b[43m(\u001b[49m\u001b[38;5;28;43mself\u001b[39;49m\u001b[38;5;241;43m.\u001b[39;49m\u001b[43m_send_cmd\u001b[49m\u001b[43m(\u001b[49m\u001b[43mServerCmd\u001b[49m\u001b[38;5;241;43m.\u001b[39;49m\u001b[43mQUERY\u001b[49m\u001b[43m,\u001b[49m\u001b[43m \u001b[49m\u001b[43mquery\u001b[49m\u001b[43m)\u001b[49m\u001b[43m)\u001b[49m\n\u001b[0;32m   1047\u001b[0m \u001b[38;5;28;01mexcept\u001b[39;00m ProgrammingError \u001b[38;5;28;01mas\u001b[39;00m err:\n\u001b[0;32m   1048\u001b[0m     \u001b[38;5;28;01mif\u001b[39;00m err\u001b[38;5;241m.\u001b[39merrno \u001b[38;5;241m==\u001b[39m \u001b[38;5;241m3948\u001b[39m \u001b[38;5;129;01mand\u001b[39;00m \u001b[38;5;124m\"\u001b[39m\u001b[38;5;124mLoading local data is disabled\u001b[39m\u001b[38;5;124m\"\u001b[39m \u001b[38;5;129;01min\u001b[39;00m err\u001b[38;5;241m.\u001b[39mmsg:\n",
      "File \u001b[1;32m~\\AppData\\Roaming\\Python\\Python39\\site-packages\\mysql\\connector\\connection.py:824\u001b[0m, in \u001b[0;36mMySQLConnection._handle_result\u001b[1;34m(self, packet)\u001b[0m\n\u001b[0;32m    822\u001b[0m     \u001b[38;5;28;01mreturn\u001b[39;00m \u001b[38;5;28mself\u001b[39m\u001b[38;5;241m.\u001b[39m_handle_eof(packet)\n\u001b[0;32m    823\u001b[0m \u001b[38;5;28;01mif\u001b[39;00m packet[\u001b[38;5;241m4\u001b[39m] \u001b[38;5;241m==\u001b[39m \u001b[38;5;241m255\u001b[39m:\n\u001b[1;32m--> 824\u001b[0m     \u001b[38;5;28;01mraise\u001b[39;00m get_exception(packet)\n\u001b[0;32m    826\u001b[0m \u001b[38;5;66;03m# We have a text result set\u001b[39;00m\n\u001b[0;32m    827\u001b[0m column_count \u001b[38;5;241m=\u001b[39m \u001b[38;5;28mself\u001b[39m\u001b[38;5;241m.\u001b[39m_protocol\u001b[38;5;241m.\u001b[39mparse_column_count(packet)\n",
      "\u001b[1;31mIntegrityError\u001b[0m: 1452 (23000): Cannot add or update a child row: a foreign key constraint fails (`dbdelino`.`menu`, CONSTRAINT `menu_ibfk_1` FOREIGN KEY (`restaurant_id`) REFERENCES `restaurant_info` (`restaurant_id`))"
     ]
    }
   ],
   "source": [
    "for index, row in menu.iterrows() :\n",
    "    sal_menu = \"\"\n",
    "    val_menu = \"\"\n",
    "    sql_menu = \"INSERT INTO menu (restaurant_id, restaurant_csv_id,food_title,price, ingredient) VALUES (%s, %s,%s, %s, %s)\"\n",
    "    val_menu = (row['id'], row['food'], row['price'], row['ingredient'])\n",
    "    cursor.execute(sql_menu, val_menu)\n",
    "    db.commit()"
   ]
  },
  {
   "cell_type": "code",
   "execution_count": null,
   "id": "73238423",
   "metadata": {},
   "outputs": [],
   "source": []
  }
 ],
 "metadata": {
  "kernelspec": {
   "display_name": "Python 3 (ipykernel)",
   "language": "python",
   "name": "python3"
  },
  "language_info": {
   "codemirror_mode": {
    "name": "ipython",
    "version": 3
   },
   "file_extension": ".py",
   "mimetype": "text/x-python",
   "name": "python",
   "nbconvert_exporter": "python",
   "pygments_lexer": "ipython3",
   "version": "3.9.12"
  }
 },
 "nbformat": 4,
 "nbformat_minor": 5
}
