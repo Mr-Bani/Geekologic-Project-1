{
 "cells": [
  {
   "cell_type": "code",
   "execution_count": null,
   "id": "cbd4df68",
   "metadata": {},
   "outputs": [],
   "source": [
    "from sqlalchemy import create_engine\n",
    "from sqlalchemy import text\n",
    "from urllib.parse import quote_plus"
   ]
  },
  {
   "cell_type": "code",
   "execution_count": null,
   "id": "f2b6df3f",
   "metadata": {},
   "outputs": [],
   "source": [
    "import pandas as pd\n",
    "import numpy as np"
   ]
  },
  {
   "cell_type": "code",
   "execution_count": null,
   "id": "1e946f60",
   "metadata": {},
   "outputs": [],
   "source": [
    "menu = pd.read_csv('menu.csv')"
   ]
  },
  {
   "cell_type": "code",
   "execution_count": null,
   "id": "ac90dc79",
   "metadata": {},
   "outputs": [],
   "source": [
    "restaurant = pd.read_csv('delino_api_data_csv.csv')"
   ]
  },
  {
   "cell_type": "code",
   "execution_count": null,
   "id": "c1ddad80",
   "metadata": {},
   "outputs": [],
   "source": [
    "host = \"37.32.5.76:3306\"\n",
    "user = \"user_group11\"\n",
    "password = quote_plus('LWAP4tMpW2*#$Geg')\n",
    "db = \"delino_db\"\n",
    "engine = create_engine(f\"mysql+mysqlconnector://{user}:{password}@{host}/{db}\")"
   ]
  },
  {
   "cell_type": "code",
   "execution_count": null,
   "id": "b5197d18",
   "metadata": {},
   "outputs": [],
   "source": [
    "connection = engine.connect()\n",
    "res = connection.execute(text(\"show tables;\"))\n",
    "res.all()"
   ]
  },
  {
   "cell_type": "code",
   "execution_count": null,
   "id": "d4164a93",
   "metadata": {},
   "outputs": [],
   "source": [
    "connection = engine.connect()\n",
    "query = \"CREATE TABLE city(city_id INT AUTO_INCREMENT PRIMARY KEY,city_name VARCHAR(100), city_code VARCHAR(100))\"\n",
    "connection.execute(query)\n",
    "res = connection.execute(text(\"show tables;\"))\n",
    "res.all()"
   ]
  },
  {
   "cell_type": "code",
   "execution_count": null,
   "id": "051f4e13",
   "metadata": {},
   "outputs": [],
   "source": [
    "connection = engine.connect()\n",
    "query = \"CREATE TABLE restaurant_info(restaurant_id INT PRIMARY KEY,restaurant_csv_id VARCHAR(100),name VARCHAR(100),delivery_duration VARCHAR(100),res_type VARCHAR(100))\"\n",
    "connection.execute(query)\n",
    "res = connection.execute(text(\"show tables;\"))\n",
    "res.all()"
   ]
  },
  {
   "cell_type": "code",
   "execution_count": null,
   "id": "e473b4d5",
   "metadata": {},
   "outputs": [],
   "source": [
    "connection = engine.connect()\n",
    "query = \"CREATE TABLE address(address_id INT AUTO_INCREMENT PRIMARY KEY,city_id INT,restaurant_id INT,restaurant_csv_id VARCHAR(100),area VARCHAR(100),full_address TEXT,FOREIGN KEY (`city_id`) REFERENCES `city` (`city_id`),FOREIGN KEY (`restaurant_id`) REFERENCES `restaurant_info` (`restaurant_id`))\"\n",
    "connection.execute(query)\n",
    "res = connection.execute(text(\"show tables;\"))\n",
    "res.all()"
   ]
  },
  {
   "cell_type": "code",
   "execution_count": null,
   "id": "c68eb846",
   "metadata": {},
   "outputs": [],
   "source": [
    "connection = engine.connect()\n",
    "query = \"CREATE TABLE rating(rating_id INT AUTO_INCREMENT PRIMARY KEY,restaurant_id INT,restaurant_csv_id VARCHAR(100),rate VARCHAR(100),rate_count VARCHAR(100),FOREIGN KEY (`restaurant_id`) REFERENCES `restaurant_info` (`restaurant_id`))\"\n",
    "connection.execute(query)\n",
    "res = connection.execute(text(\"show tables;\"))\n",
    "res.all()"
   ]
  },
  {
   "cell_type": "code",
   "execution_count": null,
   "id": "455b84aa",
   "metadata": {},
   "outputs": [],
   "source": [
    "connection = engine.connect()\n",
    "query = \"CREATE TABLE menu(menu_id INT AUTO_INCREMENT PRIMARY KEY,restaurant_id INT,restaurant_csv_id VARCHAR(100), food_title VARCHAR(100),price VARCHAR(100),ingredient TEXT,FOREIGN KEY (`restaurant_id`) REFERENCES `restaurant_info` (`restaurant_id`))\"\n",
    "connection.execute(query)\n",
    "res = connection.execute(text(\"show tables;\"))\n",
    "res.all()"
   ]
  },
  {
   "cell_type": "code",
   "execution_count": null,
   "id": "f705e732",
   "metadata": {},
   "outputs": [],
   "source": [
    "city  = [\n",
    "    { 'name': 'tehran', 'code' : 1},\n",
    "    { 'name': 'qom', 'code' : 1003},\n",
    "    { 'name': 'bandarabas', 'code' : 1005},\n",
    "    { 'name': 'karaj', 'code' : 1007},\n",
    "    { 'name': 'rasht', 'code' : 1008},\n",
    "    { 'name': 'gorgan', 'code' : 1009},\n",
    "    { 'name': 'hamedan', 'code' : 1011},\n",
    "    { 'name': 'yazd', 'code' : 1012},\n",
    "    { 'name': 'oroumiye', 'code' : 1013},\n",
    "    { 'name': 'gonbad kavoos', 'code' : 1015},\n",
    "    { 'name': 'arak', 'code' : 1033},\n",
    "]"
   ]
  },
  {
   "cell_type": "code",
   "execution_count": null,
   "id": "eb3984a3",
   "metadata": {},
   "outputs": [],
   "source": [
    "connection = engine.connect()\n",
    "for i in range(len(city)) :\n",
    "    sal_city = \"\"\n",
    "    val_city = \"\"\n",
    "    sql_city = \"INSERT INTO city (city_name,city_code ) VALUES (%s, %s)\"\n",
    "    val_city = (city[i]['name'], city[i]['code'])\n",
    "    connection.execute(sql_city, val_city)\n"
   ]
  },
  {
   "cell_type": "code",
   "execution_count": null,
   "id": "0b24ec4e",
   "metadata": {},
   "outputs": [],
   "source": [
    "restaurant.columns"
   ]
  },
  {
   "cell_type": "code",
   "execution_count": null,
   "id": "3b316f48",
   "metadata": {},
   "outputs": [],
   "source": [
    "for index, row in restaurant.iterrows() :\n",
    "    sal_res = \"\"\n",
    "    val_res = \"\"\n",
    "    sql_res = \"INSERT INTO restaurant_info (restaurant_id,restaurant_csv_id,name,delivery_duration,res_type) VALUES (%s, %s, %s, %s, %s)\"\n",
    "    val_res = (index+1,row['id'], row['name'], row['deliveryDuration'], row['typeId'])\n",
    "    connection.execute(sql_res, val_res)"
   ]
  },
  {
   "cell_type": "code",
   "execution_count": null,
   "id": "c16dad48",
   "metadata": {},
   "outputs": [],
   "source": [
    "restaurant.columns"
   ]
  },
  {
   "cell_type": "code",
   "execution_count": null,
   "id": "27c56046",
   "metadata": {},
   "outputs": [],
   "source": [
    "for index, row in restaurant.iterrows() :\n",
    "    sal_add = \"\"\n",
    "    val_add = \"\"\n",
    "    sql_add = \"INSERT INTO address (city_id,restaurant_id,restaurant_csv_id,area,full_address) VALUES (%s, %s, %s, %s, %s)\"\n",
    "    val_add = (row['cityId'], index+1 ,row['id'], row['address'], row['fullAddress'])\n",
    "    connection.execute(sql_add, val_add)"
   ]
  },
  {
   "cell_type": "code",
   "execution_count": null,
   "id": "35edc204",
   "metadata": {},
   "outputs": [],
   "source": [
    "restaurant.columns"
   ]
  },
  {
   "cell_type": "code",
   "execution_count": null,
   "id": "6dd51f13",
   "metadata": {},
   "outputs": [],
   "source": [
    "for index, row in restaurant.iterrows() :\n",
    "    sal_rating = \"\"\n",
    "    val_rating = \"\"\n",
    "    sql_rating = \"INSERT INTO rating (restaurant_id, restaurant_csv_id,rate,rate_count) VALUES (%s,%s, %s, %s)\"\n",
    "    val_rating = (index+1 ,row['id'], row['rate'], row['rateCount'])\n",
    "    connection.execute(sql_rating, val_rating)"
   ]
  },
  {
   "cell_type": "code",
   "execution_count": null,
   "id": "960390cb",
   "metadata": {},
   "outputs": [],
   "source": [
    "restaurant.columns"
   ]
  },
  {
   "cell_type": "code",
   "execution_count": null,
   "id": "941f209a",
   "metadata": {},
   "outputs": [],
   "source": [
    "menu.columns"
   ]
  },
  {
   "cell_type": "code",
   "execution_count": null,
   "id": "de88f828",
   "metadata": {},
   "outputs": [],
   "source": [
    "for index, row in menu.iterrows() :\n",
    "    sal_menu = \"\"\n",
    "    val_menu = \"\"\n",
    "    sql_menu = \"INSERT INTO menu (restaurant_csv_id,food_title,price, ingredient) VALUES ( %s,%s, %s, %s)\"\n",
    "    val_menu = (row['id'], row['food'], row['price'], row['ingredient'])\n",
    "    connection.execute(sql_menu, val_menu)"
   ]
  }
 ],
 "metadata": {
  "kernelspec": {
   "display_name": "Python 3 (ipykernel)",
   "language": "python",
   "name": "python3"
  },
  "language_info": {
   "codemirror_mode": {
    "name": "ipython",
    "version": 3
   },
   "file_extension": ".py",
   "mimetype": "text/x-python",
   "name": "python",
   "nbconvert_exporter": "python",
   "pygments_lexer": "ipython3",
   "version": "3.9.12"
  }
 },
 "nbformat": 4,
 "nbformat_minor": 5
}
